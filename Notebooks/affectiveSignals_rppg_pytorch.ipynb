{
 "cells": [
  {
   "cell_type": "markdown",
   "metadata": {},
   "source": [
    "# Affective Signals V (Breathing)\n",
    "----\n",
    "<span style=\"color:Blue\">****Through this notebook we hope you get an hands on approach to the seminar. \n",
    "    Below you will find code snippets and theory that will help you apply the various libraries that have been introduced to you in the course.**</span>"
   ]
  },
  {
   "cell_type": "code",
   "execution_count": 1,
   "metadata": {
    "id": "f5vxfc6kXP-x"
   },
   "outputs": [
    {
     "data": {
      "application/javascript": "(function(root) {\n  function now() {\n    return new Date();\n  }\n\n  const force = true;\n\n  if (typeof root._bokeh_onload_callbacks === \"undefined\" || force === true) {\n    root._bokeh_onload_callbacks = [];\n    root._bokeh_is_loading = undefined;\n  }\n\nconst JS_MIME_TYPE = 'application/javascript';\n  const HTML_MIME_TYPE = 'text/html';\n  const EXEC_MIME_TYPE = 'application/vnd.bokehjs_exec.v0+json';\n  const CLASS_NAME = 'output_bokeh rendered_html';\n\n  /**\n   * Render data to the DOM node\n   */\n  function render(props, node) {\n    const script = document.createElement(\"script\");\n    node.appendChild(script);\n  }\n\n  /**\n   * Handle when an output is cleared or removed\n   */\n  function handleClearOutput(event, handle) {\n    const cell = handle.cell;\n\n    const id = cell.output_area._bokeh_element_id;\n    const server_id = cell.output_area._bokeh_server_id;\n    // Clean up Bokeh references\n    if (id != null && id in Bokeh.index) {\n      Bokeh.index[id].model.document.clear();\n      delete Bokeh.index[id];\n    }\n\n    if (server_id !== undefined) {\n      // Clean up Bokeh references\n      const cmd_clean = \"from bokeh.io.state import curstate; print(curstate().uuid_to_server['\" + server_id + \"'].get_sessions()[0].document.roots[0]._id)\";\n      cell.notebook.kernel.execute(cmd_clean, {\n        iopub: {\n          output: function(msg) {\n            const id = msg.content.text.trim();\n            if (id in Bokeh.index) {\n              Bokeh.index[id].model.document.clear();\n              delete Bokeh.index[id];\n            }\n          }\n        }\n      });\n      // Destroy server and session\n      const cmd_destroy = \"import bokeh.io.notebook as ion; ion.destroy_server('\" + server_id + \"')\";\n      cell.notebook.kernel.execute(cmd_destroy);\n    }\n  }\n\n  /**\n   * Handle when a new output is added\n   */\n  function handleAddOutput(event, handle) {\n    const output_area = handle.output_area;\n    const output = handle.output;\n\n    // limit handleAddOutput to display_data with EXEC_MIME_TYPE content only\n    if ((output.output_type != \"display_data\") || (!Object.prototype.hasOwnProperty.call(output.data, EXEC_MIME_TYPE))) {\n      return\n    }\n\n    const toinsert = output_area.element.find(\".\" + CLASS_NAME.split(' ')[0]);\n\n    if (output.metadata[EXEC_MIME_TYPE][\"id\"] !== undefined) {\n      toinsert[toinsert.length - 1].firstChild.textContent = output.data[JS_MIME_TYPE];\n      // store reference to embed id on output_area\n      output_area._bokeh_element_id = output.metadata[EXEC_MIME_TYPE][\"id\"];\n    }\n    if (output.metadata[EXEC_MIME_TYPE][\"server_id\"] !== undefined) {\n      const bk_div = document.createElement(\"div\");\n      bk_div.innerHTML = output.data[HTML_MIME_TYPE];\n      const script_attrs = bk_div.children[0].attributes;\n      for (let i = 0; i < script_attrs.length; i++) {\n        toinsert[toinsert.length - 1].firstChild.setAttribute(script_attrs[i].name, script_attrs[i].value);\n        toinsert[toinsert.length - 1].firstChild.textContent = bk_div.children[0].textContent\n      }\n      // store reference to server id on output_area\n      output_area._bokeh_server_id = output.metadata[EXEC_MIME_TYPE][\"server_id\"];\n    }\n  }\n\n  function register_renderer(events, OutputArea) {\n\n    function append_mime(data, metadata, element) {\n      // create a DOM node to render to\n      const toinsert = this.create_output_subarea(\n        metadata,\n        CLASS_NAME,\n        EXEC_MIME_TYPE\n      );\n      this.keyboard_manager.register_events(toinsert);\n      // Render to node\n      const props = {data: data, metadata: metadata[EXEC_MIME_TYPE]};\n      render(props, toinsert[toinsert.length - 1]);\n      element.append(toinsert);\n      return toinsert\n    }\n\n    /* Handle when an output is cleared or removed */\n    events.on('clear_output.CodeCell', handleClearOutput);\n    events.on('delete.Cell', handleClearOutput);\n\n    /* Handle when a new output is added */\n    events.on('output_added.OutputArea', handleAddOutput);\n\n    /**\n     * Register the mime type and append_mime function with output_area\n     */\n    OutputArea.prototype.register_mime_type(EXEC_MIME_TYPE, append_mime, {\n      /* Is output safe? */\n      safe: true,\n      /* Index of renderer in `output_area.display_order` */\n      index: 0\n    });\n  }\n\n  // register the mime type if in Jupyter Notebook environment and previously unregistered\n  if (root.Jupyter !== undefined) {\n    const events = require('base/js/events');\n    const OutputArea = require('notebook/js/outputarea').OutputArea;\n\n    if (OutputArea.prototype.mime_types().indexOf(EXEC_MIME_TYPE) == -1) {\n      register_renderer(events, OutputArea);\n    }\n  }\n  if (typeof (root._bokeh_timeout) === \"undefined\" || force === true) {\n    root._bokeh_timeout = Date.now() + 5000;\n    root._bokeh_failed_load = false;\n  }\n\n  const NB_LOAD_WARNING = {'data': {'text/html':\n     \"<div style='background-color: #fdd'>\\n\"+\n     \"<p>\\n\"+\n     \"BokehJS does not appear to have successfully loaded. If loading BokehJS from CDN, this \\n\"+\n     \"may be due to a slow or bad network connection. Possible fixes:\\n\"+\n     \"</p>\\n\"+\n     \"<ul>\\n\"+\n     \"<li>re-rerun `output_notebook()` to attempt to load from CDN again, or</li>\\n\"+\n     \"<li>use INLINE resources instead, as so:</li>\\n\"+\n     \"</ul>\\n\"+\n     \"<code>\\n\"+\n     \"from bokeh.resources import INLINE\\n\"+\n     \"output_notebook(resources=INLINE)\\n\"+\n     \"</code>\\n\"+\n     \"</div>\"}};\n\n  function display_loaded() {\n    const el = document.getElementById(null);\n    if (el != null) {\n      el.textContent = \"BokehJS is loading...\";\n    }\n    if (root.Bokeh !== undefined) {\n      if (el != null) {\n        el.textContent = \"BokehJS \" + root.Bokeh.version + \" successfully loaded.\";\n      }\n    } else if (Date.now() < root._bokeh_timeout) {\n      setTimeout(display_loaded, 100)\n    }\n  }\n\n  function run_callbacks() {\n    try {\n      root._bokeh_onload_callbacks.forEach(function(callback) {\n        if (callback != null)\n          callback();\n      });\n    } finally {\n      delete root._bokeh_onload_callbacks\n    }\n    console.debug(\"Bokeh: all callbacks have finished\");\n  }\n\n  function load_libs(css_urls, js_urls, callback) {\n    if (css_urls == null) css_urls = [];\n    if (js_urls == null) js_urls = [];\n\n    root._bokeh_onload_callbacks.push(callback);\n    if (root._bokeh_is_loading > 0) {\n      console.debug(\"Bokeh: BokehJS is being loaded, scheduling callback at\", now());\n      return null;\n    }\n    if (js_urls == null || js_urls.length === 0) {\n      run_callbacks();\n      return null;\n    }\n    console.debug(\"Bokeh: BokehJS not loaded, scheduling load and callback at\", now());\n    root._bokeh_is_loading = css_urls.length + js_urls.length;\n\n    function on_load() {\n      root._bokeh_is_loading--;\n      if (root._bokeh_is_loading === 0) {\n        console.debug(\"Bokeh: all BokehJS libraries/stylesheets loaded\");\n        run_callbacks()\n      }\n    }\n\n    function on_error(url) {\n      console.error(\"failed to load \" + url);\n    }\n\n    for (let i = 0; i < css_urls.length; i++) {\n      const url = css_urls[i];\n      const element = document.createElement(\"link\");\n      element.onload = on_load;\n      element.onerror = on_error.bind(null, url);\n      element.rel = \"stylesheet\";\n      element.type = \"text/css\";\n      element.href = url;\n      console.debug(\"Bokeh: injecting link tag for BokehJS stylesheet: \", url);\n      document.body.appendChild(element);\n    }\n\n    for (let i = 0; i < js_urls.length; i++) {\n      const url = js_urls[i];\n      const element = document.createElement('script');\n      element.onload = on_load;\n      element.onerror = on_error.bind(null, url);\n      element.async = false;\n      element.src = url;\n      console.debug(\"Bokeh: injecting script tag for BokehJS library: \", url);\n      document.head.appendChild(element);\n    }\n  };\n\n  function inject_raw_css(css) {\n    const element = document.createElement(\"style\");\n    element.appendChild(document.createTextNode(css));\n    document.body.appendChild(element);\n  }\n\n  const js_urls = [\"https://cdn.bokeh.org/bokeh/release/bokeh-2.4.3.min.js\", \"https://cdn.bokeh.org/bokeh/release/bokeh-gl-2.4.3.min.js\", \"https://cdn.bokeh.org/bokeh/release/bokeh-widgets-2.4.3.min.js\", \"https://cdn.bokeh.org/bokeh/release/bokeh-tables-2.4.3.min.js\", \"https://cdn.bokeh.org/bokeh/release/bokeh-mathjax-2.4.3.min.js\"];\n  const css_urls = [];\n\n  const inline_js = [    function(Bokeh) {\n      Bokeh.set_log_level(\"info\");\n    },\nfunction(Bokeh) {\n    }\n  ];\n\n  function run_inline_js() {\n    if (root.Bokeh !== undefined || force === true) {\n          for (let i = 0; i < inline_js.length; i++) {\n      inline_js[i].call(root, root.Bokeh);\n    }\n} else if (Date.now() < root._bokeh_timeout) {\n      setTimeout(run_inline_js, 100);\n    } else if (!root._bokeh_failed_load) {\n      console.log(\"Bokeh: BokehJS failed to load within specified timeout.\");\n      root._bokeh_failed_load = true;\n    } else if (force !== true) {\n      const cell = $(document.getElementById(null)).parents('.cell').data().cell;\n      cell.output_area.append_execute_result(NB_LOAD_WARNING)\n    }\n  }\n\n  if (root._bokeh_is_loading === 0) {\n    console.debug(\"Bokeh: BokehJS loaded, going straight to plotting\");\n    run_inline_js();\n  } else {\n    load_libs(css_urls, js_urls, function() {\n      console.debug(\"Bokeh: BokehJS plotting callback run at\", now());\n      run_inline_js();\n    });\n  }\n}(window));",
      "application/vnd.bokehjs_load.v0+json": ""
     },
     "metadata": {},
     "output_type": "display_data"
    },
    {
     "data": {
      "application/javascript": "(function(root) {\n  function now() {\n    return new Date();\n  }\n\n  const force = true;\n\n  if (typeof root._bokeh_onload_callbacks === \"undefined\" || force === true) {\n    root._bokeh_onload_callbacks = [];\n    root._bokeh_is_loading = undefined;\n  }\n\nconst JS_MIME_TYPE = 'application/javascript';\n  const HTML_MIME_TYPE = 'text/html';\n  const EXEC_MIME_TYPE = 'application/vnd.bokehjs_exec.v0+json';\n  const CLASS_NAME = 'output_bokeh rendered_html';\n\n  /**\n   * Render data to the DOM node\n   */\n  function render(props, node) {\n    const script = document.createElement(\"script\");\n    node.appendChild(script);\n  }\n\n  /**\n   * Handle when an output is cleared or removed\n   */\n  function handleClearOutput(event, handle) {\n    const cell = handle.cell;\n\n    const id = cell.output_area._bokeh_element_id;\n    const server_id = cell.output_area._bokeh_server_id;\n    // Clean up Bokeh references\n    if (id != null && id in Bokeh.index) {\n      Bokeh.index[id].model.document.clear();\n      delete Bokeh.index[id];\n    }\n\n    if (server_id !== undefined) {\n      // Clean up Bokeh references\n      const cmd_clean = \"from bokeh.io.state import curstate; print(curstate().uuid_to_server['\" + server_id + \"'].get_sessions()[0].document.roots[0]._id)\";\n      cell.notebook.kernel.execute(cmd_clean, {\n        iopub: {\n          output: function(msg) {\n            const id = msg.content.text.trim();\n            if (id in Bokeh.index) {\n              Bokeh.index[id].model.document.clear();\n              delete Bokeh.index[id];\n            }\n          }\n        }\n      });\n      // Destroy server and session\n      const cmd_destroy = \"import bokeh.io.notebook as ion; ion.destroy_server('\" + server_id + \"')\";\n      cell.notebook.kernel.execute(cmd_destroy);\n    }\n  }\n\n  /**\n   * Handle when a new output is added\n   */\n  function handleAddOutput(event, handle) {\n    const output_area = handle.output_area;\n    const output = handle.output;\n\n    // limit handleAddOutput to display_data with EXEC_MIME_TYPE content only\n    if ((output.output_type != \"display_data\") || (!Object.prototype.hasOwnProperty.call(output.data, EXEC_MIME_TYPE))) {\n      return\n    }\n\n    const toinsert = output_area.element.find(\".\" + CLASS_NAME.split(' ')[0]);\n\n    if (output.metadata[EXEC_MIME_TYPE][\"id\"] !== undefined) {\n      toinsert[toinsert.length - 1].firstChild.textContent = output.data[JS_MIME_TYPE];\n      // store reference to embed id on output_area\n      output_area._bokeh_element_id = output.metadata[EXEC_MIME_TYPE][\"id\"];\n    }\n    if (output.metadata[EXEC_MIME_TYPE][\"server_id\"] !== undefined) {\n      const bk_div = document.createElement(\"div\");\n      bk_div.innerHTML = output.data[HTML_MIME_TYPE];\n      const script_attrs = bk_div.children[0].attributes;\n      for (let i = 0; i < script_attrs.length; i++) {\n        toinsert[toinsert.length - 1].firstChild.setAttribute(script_attrs[i].name, script_attrs[i].value);\n        toinsert[toinsert.length - 1].firstChild.textContent = bk_div.children[0].textContent\n      }\n      // store reference to server id on output_area\n      output_area._bokeh_server_id = output.metadata[EXEC_MIME_TYPE][\"server_id\"];\n    }\n  }\n\n  function register_renderer(events, OutputArea) {\n\n    function append_mime(data, metadata, element) {\n      // create a DOM node to render to\n      const toinsert = this.create_output_subarea(\n        metadata,\n        CLASS_NAME,\n        EXEC_MIME_TYPE\n      );\n      this.keyboard_manager.register_events(toinsert);\n      // Render to node\n      const props = {data: data, metadata: metadata[EXEC_MIME_TYPE]};\n      render(props, toinsert[toinsert.length - 1]);\n      element.append(toinsert);\n      return toinsert\n    }\n\n    /* Handle when an output is cleared or removed */\n    events.on('clear_output.CodeCell', handleClearOutput);\n    events.on('delete.Cell', handleClearOutput);\n\n    /* Handle when a new output is added */\n    events.on('output_added.OutputArea', handleAddOutput);\n\n    /**\n     * Register the mime type and append_mime function with output_area\n     */\n    OutputArea.prototype.register_mime_type(EXEC_MIME_TYPE, append_mime, {\n      /* Is output safe? */\n      safe: true,\n      /* Index of renderer in `output_area.display_order` */\n      index: 0\n    });\n  }\n\n  // register the mime type if in Jupyter Notebook environment and previously unregistered\n  if (root.Jupyter !== undefined) {\n    const events = require('base/js/events');\n    const OutputArea = require('notebook/js/outputarea').OutputArea;\n\n    if (OutputArea.prototype.mime_types().indexOf(EXEC_MIME_TYPE) == -1) {\n      register_renderer(events, OutputArea);\n    }\n  }\n  if (typeof (root._bokeh_timeout) === \"undefined\" || force === true) {\n    root._bokeh_timeout = Date.now() + 5000;\n    root._bokeh_failed_load = false;\n  }\n\n  const NB_LOAD_WARNING = {'data': {'text/html':\n     \"<div style='background-color: #fdd'>\\n\"+\n     \"<p>\\n\"+\n     \"BokehJS does not appear to have successfully loaded. If loading BokehJS from CDN, this \\n\"+\n     \"may be due to a slow or bad network connection. Possible fixes:\\n\"+\n     \"</p>\\n\"+\n     \"<ul>\\n\"+\n     \"<li>re-rerun `output_notebook()` to attempt to load from CDN again, or</li>\\n\"+\n     \"<li>use INLINE resources instead, as so:</li>\\n\"+\n     \"</ul>\\n\"+\n     \"<code>\\n\"+\n     \"from bokeh.resources import INLINE\\n\"+\n     \"output_notebook(resources=INLINE)\\n\"+\n     \"</code>\\n\"+\n     \"</div>\"}};\n\n  function display_loaded() {\n    const el = document.getElementById(null);\n    if (el != null) {\n      el.textContent = \"BokehJS is loading...\";\n    }\n    if (root.Bokeh !== undefined) {\n      if (el != null) {\n        el.textContent = \"BokehJS \" + root.Bokeh.version + \" successfully loaded.\";\n      }\n    } else if (Date.now() < root._bokeh_timeout) {\n      setTimeout(display_loaded, 100)\n    }\n  }\n\n  function run_callbacks() {\n    try {\n      root._bokeh_onload_callbacks.forEach(function(callback) {\n        if (callback != null)\n          callback();\n      });\n    } finally {\n      delete root._bokeh_onload_callbacks\n    }\n    console.debug(\"Bokeh: all callbacks have finished\");\n  }\n\n  function load_libs(css_urls, js_urls, callback) {\n    if (css_urls == null) css_urls = [];\n    if (js_urls == null) js_urls = [];\n\n    root._bokeh_onload_callbacks.push(callback);\n    if (root._bokeh_is_loading > 0) {\n      console.debug(\"Bokeh: BokehJS is being loaded, scheduling callback at\", now());\n      return null;\n    }\n    if (js_urls == null || js_urls.length === 0) {\n      run_callbacks();\n      return null;\n    }\n    console.debug(\"Bokeh: BokehJS not loaded, scheduling load and callback at\", now());\n    root._bokeh_is_loading = css_urls.length + js_urls.length;\n\n    function on_load() {\n      root._bokeh_is_loading--;\n      if (root._bokeh_is_loading === 0) {\n        console.debug(\"Bokeh: all BokehJS libraries/stylesheets loaded\");\n        run_callbacks()\n      }\n    }\n\n    function on_error(url) {\n      console.error(\"failed to load \" + url);\n    }\n\n    for (let i = 0; i < css_urls.length; i++) {\n      const url = css_urls[i];\n      const element = document.createElement(\"link\");\n      element.onload = on_load;\n      element.onerror = on_error.bind(null, url);\n      element.rel = \"stylesheet\";\n      element.type = \"text/css\";\n      element.href = url;\n      console.debug(\"Bokeh: injecting link tag for BokehJS stylesheet: \", url);\n      document.body.appendChild(element);\n    }\n\n    for (let i = 0; i < js_urls.length; i++) {\n      const url = js_urls[i];\n      const element = document.createElement('script');\n      element.onload = on_load;\n      element.onerror = on_error.bind(null, url);\n      element.async = false;\n      element.src = url;\n      console.debug(\"Bokeh: injecting script tag for BokehJS library: \", url);\n      document.head.appendChild(element);\n    }\n  };\n\n  function inject_raw_css(css) {\n    const element = document.createElement(\"style\");\n    element.appendChild(document.createTextNode(css));\n    document.body.appendChild(element);\n  }\n\n  const js_urls = [\"https://cdn.bokeh.org/bokeh/release/bokeh-2.4.3.min.js\", \"https://cdn.bokeh.org/bokeh/release/bokeh-gl-2.4.3.min.js\", \"https://cdn.bokeh.org/bokeh/release/bokeh-widgets-2.4.3.min.js\", \"https://cdn.bokeh.org/bokeh/release/bokeh-tables-2.4.3.min.js\", \"https://cdn.bokeh.org/bokeh/release/bokeh-mathjax-2.4.3.min.js\"];\n  const css_urls = [];\n\n  const inline_js = [    function(Bokeh) {\n      Bokeh.set_log_level(\"info\");\n    },\nfunction(Bokeh) {\n    }\n  ];\n\n  function run_inline_js() {\n    if (root.Bokeh !== undefined || force === true) {\n          for (let i = 0; i < inline_js.length; i++) {\n      inline_js[i].call(root, root.Bokeh);\n    }\n} else if (Date.now() < root._bokeh_timeout) {\n      setTimeout(run_inline_js, 100);\n    } else if (!root._bokeh_failed_load) {\n      console.log(\"Bokeh: BokehJS failed to load within specified timeout.\");\n      root._bokeh_failed_load = true;\n    } else if (force !== true) {\n      const cell = $(document.getElementById(null)).parents('.cell').data().cell;\n      cell.output_area.append_execute_result(NB_LOAD_WARNING)\n    }\n  }\n\n  if (root._bokeh_is_loading === 0) {\n    console.debug(\"Bokeh: BokehJS loaded, going straight to plotting\");\n    run_inline_js();\n  } else {\n    load_libs(css_urls, js_urls, function() {\n      console.debug(\"Bokeh: BokehJS plotting callback run at\", now());\n      run_inline_js();\n    });\n  }\n}(window));",
      "application/vnd.bokehjs_load.v0+json": ""
     },
     "metadata": {},
     "output_type": "display_data"
    }
   ],
   "source": [
    "import numpy as np\n",
    "import matplotlib.pyplot as plt\n",
    "import collections\n",
    "from datetime import timedelta\n",
    "import numpy as np\n",
    "import matplotlib.pyplot as plt\n",
    "import collections\n",
    "import biosignalsnotebooks as bsnb\n",
    "import subprocess\n",
    "import heartpy as hp\n",
    "import seaborn as sns\n",
    "sns.set()"
   ]
  },
  {
   "cell_type": "markdown",
   "metadata": {},
   "source": [
    "### Extraction\n",
    "We will extract the data from the text files that you have recorded during the lab tour. Below you will have code cells which will guide you through the process of extracting the right segment of the signal that you will further use for processing. "
   ]
  },
  {
   "cell_type": "code",
   "execution_count": 2,
   "metadata": {},
   "outputs": [],
   "source": [
    "#path to the data that you recorded\n",
    "filePath = \"./data.txt\"\n",
    "\n",
    "#function provided by biosignals to load data and header\n",
    "data, header = bsnb.load(filePath, get_header=True)\n",
    "sampling_rate = header[\"sampling rate\"]"
   ]
  },
  {
   "cell_type": "code",
   "execution_count": null,
   "metadata": {},
   "outputs": [],
   "source": [
    "#information of the dataset\n",
    "header"
   ]
  },
  {
   "cell_type": "code",
   "execution_count": 4,
   "metadata": {},
   "outputs": [],
   "source": [
    "#ECG data \n",
    "ECG_raw = data[\"CH4\"]\n",
    "respiratory_rate = data[\"CH1\"]\n",
    "time_stamps = bsnb.generate_time(ECG_raw, sampling_rate)\n",
    "\n",
    "# convert ECG data to mv \n",
    "ch = \"CH4\" # Channel\n",
    "sr = 1000 # Sampling rate\n",
    "vcc = 3000 # mV\n",
    "gain = 1000\n",
    "resolution = header['resolution'][0] # Resolution (number of available bits)\n",
    "ECG_mv =  (((np.array(ECG_raw) / 2**resolution) - 0.5) * vcc) / gain"
   ]
  },
  {
   "cell_type": "code",
   "execution_count": null,
   "metadata": {},
   "outputs": [],
   "source": [
    "signal_perc = ((np.array(respiratory_rate) / 2**resolution) - 0.5) * 100\n",
    "bsnb.plot([time_stamps, time_stamps], [respiratory_rate, signal_perc], y_axis_label=[\"Raw Data\", \"Percentage of Full-scale (%)\"], grid_lines=1, grid_columns=2, grid_plot=True)"
   ]
  },
  {
   "cell_type": "code",
   "execution_count": 6,
   "metadata": {},
   "outputs": [],
   "source": [
    "def load_events(filepath):\n",
    "    with open(eventFilePath)  as f:\n",
    "        header = []\n",
    "        data = []\n",
    "        for i, line in enumerate(f.readlines()):\n",
    "            if i < 3:\n",
    "                if i == 1:\n",
    "                    header.append(line)\n",
    "            else:\n",
    "                data.append(line.strip().split())\n",
    "    return header, data"
   ]
  },
  {
   "cell_type": "code",
   "execution_count": null,
   "metadata": {},
   "outputs": [],
   "source": [
    "#path to the eventannotation file\n",
    "eventFilePath = \"./eventAnnotation.txt\"\n",
    "header_ev, data_ev = load_events(eventFilePath)\n",
    "data_ev"
   ]
  },
  {
   "cell_type": "markdown",
   "metadata": {},
   "source": [
    "Once you are able to load the timestamps you would be able to look at the time in seconds, there should be ideally two timestamps that are your signals that you saved during the recording."
   ]
  },
  {
   "cell_type": "code",
   "execution_count": 8,
   "metadata": {},
   "outputs": [],
   "source": [
    "# update the values of the first timestamp and second timestamp from the values you observed in the event files\n",
    "first_timestamp = 34.05\n",
    "second_timestamp = 155.85\n",
    "total_time = len(ECG_raw)/sampling_rate\n",
    "first_point = int(sampling_rate*first_timestamp)\n",
    "second_point = int(sampling_rate*second_timestamp)"
   ]
  },
  {
   "cell_type": "code",
   "execution_count": null,
   "metadata": {},
   "outputs": [],
   "source": [
    "#NormalRR , we use 60s after the first timestamp\n",
    "timeNormalHr = time_stamps[first_point:first_point+60*sampling_rate]\n",
    "RespNormalHr = respiratory_rate[first_point:first_point+60*sampling_rate]\n",
    "ECGNormalHr = ECG_mv[first_point:first_point+60*sampling_rate]\n",
    "bsnb.plot(timeNormalHr,RespNormalHr)"
   ]
  },
  {
   "cell_type": "code",
   "execution_count": null,
   "metadata": {},
   "outputs": [],
   "source": [
    "#elevatedRR \n",
    "timeElevatedHR = time_stamps[second_point:second_point+60*sampling_rate]\n",
    "RespElevatedHr = respiratory_rate[second_point:second_point+60*sampling_rate]\n",
    "ecgElevatedHr = ECG_mv[second_point:second_point+60*sampling_rate]\n",
    "bsnb.plot(timeElevatedHR,RespElevatedHr)"
   ]
  },
  {
   "cell_type": "code",
   "execution_count": null,
   "metadata": {},
   "outputs": [],
   "source": [
    "#starting timestamp for the video with elevated RR\n",
    "start_video = int(np.round(time_stamps[second_point]- time_stamps[first_point]))\n",
    "\n",
    "#convert the videos into 1 min snippets \n",
    "# pathVideo = \"/data/ppg_22_bi_video_stud_lab/raw/P2/video.MOV\"\n",
    "pathVideo = \"/home/Notebooks/video.MOV\"\n",
    "\n",
    "subprocess.run(['ffmpeg', '-ss','10','-t','60','-i', pathVideo,  \"./\"+\"NormalHR.mp4\"])\n",
    "subprocess.run(['ffmpeg', '-ss',f'{start_video+10}','-t','60','-i', pathVideo,  \"./\"+\"ElevatedHR.mp4\"])"
   ]
  },
  {
   "cell_type": "markdown",
   "metadata": {
    "id": "BZfH6Tj3XafN"
   },
   "source": [
    "### Theoretical Background\n",
    "\n"
   ]
  },
  {
   "cell_type": "markdown",
   "metadata": {
    "id": "j5clUYH2d3Vx"
   },
   "source": [
    "In the last week, you've learned that the healthy heart has an irregular beat-to-beat rhythm. This rhythm variability reflects the interplay of the autonomic nervous system: During inhalation of air into the lungs the sympathicus has a higher impact on the heart due to inhibition of the [vagotonia](https://en.wikipedia.org/wiki/Vagotonia). Hence, the heart rate synchronizes with the respiratory cycle, meaning it increases with inspiration and decreases with expiration. It is called respiratory sinus arrhythmia ([RSA](https://pubmed.ncbi.nlm.nih.gov/14769752/)) and can be well seen during sleep and in young children."
   ]
  },
  {
   "cell_type": "markdown",
   "metadata": {
    "id": "AMsjQnesXhRS"
   },
   "source": [
    "![hr_breath.PNG](data:image/png;base64,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)"
   ]
  },
  {
   "cell_type": "markdown",
   "metadata": {
    "id": "5ANEXATSj17s"
   },
   "source": [
    "Respiration rate extraction is categorized into three modalities: extraction from physiological signals (ECG, PPG,...), based on respiratory movements (upper body), based on airflow (thermal camera).\n",
    "\n",
    "\n"
   ]
  },
  {
   "cell_type": "markdown",
   "metadata": {},
   "source": [
    "### Deep Learning method to extract the HR and RR([MTTS-CAN](https://arxiv.org/pdf/2006.03790.pdf))"
   ]
  },
  {
   "cell_type": "code",
   "execution_count": null,
   "metadata": {},
   "outputs": [],
   "source": [
    "# import numpy as np\n",
    "# import cv2\n",
    "# from skimage.util import img_as_float\n",
    "# import tensorflow as tf\n",
    "# import matplotlib.pyplot as plt\n",
    "# import time\n",
    "# import scipy.io\n",
    "# from scipy.sparse import spdiags\n",
    "\n",
    "# def preprocess_raw_video(videoFilePath, dim=36):\n",
    "\n",
    "#     #########################################################################\n",
    "#     # set up\n",
    "#     t = []\n",
    "#     i = 0\n",
    "#     vidObj = cv2.VideoCapture(videoFilePath);\n",
    "#     totalFrames = int(vidObj.get(cv2.CAP_PROP_FRAME_COUNT)) # get total frame size\n",
    "#     print(\"Total Number of frames\", totalFrames)\n",
    "#     Xsub = np.zeros((totalFrames, dim, dim, 3), dtype = np.float32)\n",
    "#     height = vidObj.get(cv2.CAP_PROP_FRAME_HEIGHT)\n",
    "#     width = vidObj.get(cv2.CAP_PROP_FRAME_WIDTH)\n",
    "#     success, img = vidObj.read()\n",
    "#     dims = img.shape\n",
    "#     print(\"Orignal Height\", height)\n",
    "#     print(\"Original width\", width)\n",
    "#     #########################################################################\n",
    "#     # Crop each frame size into dim x dim\n",
    "#     while success:\n",
    "#         t.append(vidObj.get(cv2.CAP_PROP_POS_MSEC))# current timestamp in milisecond\n",
    "#         vidLxL = cv2.resize(img_as_float(img[:, int(width/2)-int(height/2 + 1):int(height/2)+int(width/2), :]), (dim, dim), interpolation = cv2.INTER_AREA)\n",
    "# #         vidLxL = cv2.rotate(vidLxL, cv2.ROTATE_90_CLOCKWISE) # rotate 90 degree\n",
    "#         vidLxL = cv2.cvtColor(vidLxL.astype('float32'), cv2.COLOR_BGR2RGB)\n",
    "#         vidLxL[vidLxL > 1] = 1\n",
    "#         vidLxL[vidLxL < (1/255)] = 1/255\n",
    "#         Xsub[i, :, :, :] = vidLxL\n",
    "#         success, img = vidObj.read() # read the next one\n",
    "#         i = i + 1\n",
    "#     plt.imshow(Xsub[0])\n",
    "#     plt.title('Sample Preprocessed Frame')\n",
    "#     plt.show()\n",
    "#     #########################################################################\n",
    "#     # Normalized Frames in the motion branch\n",
    "#     normalized_len = len(t) - 1\n",
    "#     dXsub = np.zeros((normalized_len, dim, dim, 3), dtype = np.float32)\n",
    "#     for j in range(normalized_len - 1):\n",
    "#         dXsub[j, :, :, :] = (Xsub[j+1, :, :, :] - Xsub[j, :, :, :]) / (Xsub[j+1, :, :, :] + Xsub[j, :, :, :])\n",
    "#     dXsub = dXsub / np.std(dXsub)\n",
    "#     #########################################################################\n",
    "#     # Normalize raw frames in the apperance branch\n",
    "#     Xsub = Xsub - np.mean(Xsub)\n",
    "#     Xsub = Xsub  / np.std(Xsub)\n",
    "#     Xsub = Xsub[:totalFrames-1, :, :, :]\n",
    "#     #########################################################################\n",
    "#     # Plot an example of data after preprocess\n",
    "# #     print(dXsub.shape,Xsub.shape)\n",
    "#     dXsub = np.concatenate((dXsub, Xsub), axis = 3);\n",
    "#     return dXsub\n",
    "\n",
    "# def detrend(signal, Lambda):\n",
    "#     \"\"\"detrend(signal, Lambda) -> filtered_signal\n",
    "#     This function applies a detrending filter.\n",
    "#     This code is based on the following article \"An advanced detrending method with application\n",
    "#     to HRV analysis\". Tarvainen et al., IEEE Trans on Biomedical Engineering, 2002.\n",
    "#     *Parameters*\n",
    "#       ``signal`` (1d numpy array):\n",
    "#         The signal where you want to remove the trend.\n",
    "#       ``Lambda`` (int):\n",
    "#         The smoothing parameter.\n",
    "#     *Returns*\n",
    "#       ``filtered_signal`` (1d numpy array):\n",
    "#         The detrended signal.\n",
    "#     \"\"\"\n",
    "#     signal_length = signal.shape[0]\n",
    "\n",
    "#     # observation matrix\n",
    "#     H = np.identity(signal_length)\n",
    "\n",
    "#     # second-order difference matrix\n",
    "\n",
    "#     ones = np.ones(signal_length)\n",
    "#     minus_twos = -2 * np.ones(signal_length)\n",
    "#     diags_data = np.array([ones, minus_twos, ones])\n",
    "#     diags_index = np.array([0, 1, 2])\n",
    "#     D = spdiags(diags_data, diags_index, (signal_length - 2), signal_length).toarray()\n",
    "#     filtered_signal = np.dot((H - np.linalg.inv(H + (Lambda ** 2) * np.dot(D.T, D))), signal)\n",
    "#     return filtered_signal\n"
   ]
  },
  {
   "cell_type": "code",
   "execution_count": 12,
   "metadata": {},
   "outputs": [],
   "source": [
    "import numpy as np\n",
    "import cv2\n",
    "from skimage.util import img_as_float\n",
    "import matplotlib.pyplot as plt\n",
    "import scipy.io\n",
    "from scipy.sparse import spdiags\n",
    "\n",
    "def preprocess_raw_video(videoFilePath, dim=36):\n",
    "    \"\"\"\n",
    "    Preprocess raw video for rPPG analysis.\n",
    "    Returns both motion (temporal differences) and appearance (normalized frames) data.\n",
    "    \"\"\"\n",
    "    #########################################################################\n",
    "    # set up\n",
    "    t = []\n",
    "    i = 0\n",
    "    vidObj = cv2.VideoCapture(videoFilePath)\n",
    "    totalFrames = int(vidObj.get(cv2.CAP_PROP_FRAME_COUNT)) # get total frame size\n",
    "#     print(\"Total Number of frames\", totalFrames)\n",
    "    Xsub = np.zeros((totalFrames, dim, dim, 3), dtype=np.float32)\n",
    "    height = vidObj.get(cv2.CAP_PROP_FRAME_HEIGHT)\n",
    "    width = vidObj.get(cv2.CAP_PROP_FRAME_WIDTH)\n",
    "    success, img = vidObj.read()\n",
    "    dims = img.shape\n",
    "#     print(\"Original Height\", height)\n",
    "#     print(\"Original width\", width)\n",
    "    \n",
    "    #########################################################################\n",
    "    # Crop each frame size into dim x dim\n",
    "    while success:\n",
    "        t.append(vidObj.get(cv2.CAP_PROP_POS_MSEC))# current timestamp in millisecond\n",
    "        vidLxL = cv2.resize(img_as_float(img[:, int(width/2)-int(height/2 + 1):int(height/2)+int(width/2), :]), (dim, dim), interpolation=cv2.INTER_AREA)\n",
    "        vidLxL = cv2.cvtColor(vidLxL.astype('float32'), cv2.COLOR_BGR2RGB)\n",
    "        vidLxL[vidLxL > 1] = 1\n",
    "        vidLxL[vidLxL < (1/255)] = 1/255\n",
    "        Xsub[i, :, :, :] = vidLxL\n",
    "        success, img = vidObj.read() # read the next one\n",
    "        i = i + 1\n",
    "    \n",
    "    # Close video capture object\n",
    "    vidObj.release()\n",
    "    \n",
    "    plt.imshow(Xsub[0])\n",
    "    plt.title('Sample Preprocessed Frame')\n",
    "    plt.show()\n",
    "    \n",
    "    #########################################################################\n",
    "    # Normalized Frames in the motion branch\n",
    "    normalized_len = len(t) - 1\n",
    "    dXsub = np.zeros((normalized_len, dim, dim, 3), dtype=np.float32)\n",
    "    for j in range(normalized_len - 1):\n",
    "        dXsub[j, :, :, :] = (Xsub[j+1, :, :, :] - Xsub[j, :, :, :]) / (Xsub[j+1, :, :, :] + Xsub[j, :, :, :])\n",
    "    dXsub = dXsub / np.std(dXsub)\n",
    "    \n",
    "    #########################################################################\n",
    "    # Normalize raw frames in the appearance branch\n",
    "    Xsub = Xsub - np.mean(Xsub)\n",
    "    Xsub = Xsub / np.std(Xsub)\n",
    "    Xsub = Xsub[:totalFrames-1, :, :, :]\n",
    "    \n",
    "    #########################################################################\n",
    "    # Plot an example of data after preprocess\n",
    "    print(f\"Motion branch shape: {dXsub.shape}, Appearance branch shape: {Xsub.shape}\")\n",
    "    dXsub = np.concatenate((dXsub, Xsub), axis=3)\n",
    "    return dXsub\n",
    "\n",
    "def detrend(signal, Lambda):\n",
    "    \"\"\"detrend(signal, Lambda) -> filtered_signal\n",
    "    This function applies a detrending filter.\n",
    "    This code is based on the following article \"An advanced detrending method with application\n",
    "    to HRV analysis\". Tarvainen et al., IEEE Trans on Biomedical Engineering, 2002.\n",
    "    *Parameters*\n",
    "      ``signal`` (1d numpy array):\n",
    "        The signal where you want to remove the trend.\n",
    "      ``Lambda`` (int):\n",
    "        The smoothing parameter.\n",
    "    *Returns*\n",
    "      ``filtered_signal`` (1d numpy array):\n",
    "        The detrended signal.\n",
    "    \"\"\"\n",
    "    signal_length = signal.shape[0]\n",
    "\n",
    "    # observation matrix\n",
    "    H = np.identity(signal_length)\n",
    "\n",
    "    # second-order difference matrix\n",
    "    ones = np.ones(signal_length)\n",
    "    minus_twos = -2 * np.ones(signal_length)\n",
    "    diags_data = np.array([ones, minus_twos, ones])\n",
    "    diags_index = np.array([0, 1, 2])\n",
    "    D = spdiags(diags_data, diags_index, (signal_length - 2), signal_length).toarray()\n",
    "    filtered_signal = np.dot((H - np.linalg.inv(H + (Lambda ** 2) * np.dot(D.T, D))), signal)\n",
    "    return filtered_signal\n",
    "\n",
    "def preprocess_for_physnet(videoFilePath, dim=36):\n",
    "    \"\"\"\n",
    "    Preprocess video specifically for PhysNet model.\n",
    "    Returns raw normalized frames ready for PyTorch PhysNet model.\n",
    "    \"\"\"\n",
    "    #########################################################################\n",
    "    # Basic video processing\n",
    "    t = []\n",
    "    i = 0\n",
    "    vidObj = cv2.VideoCapture(videoFilePath)\n",
    "    totalFrames = int(vidObj.get(cv2.CAP_PROP_FRAME_COUNT))\n",
    "    print(\"Total Number of frames\", totalFrames)\n",
    "    \n",
    "    Xsub = np.zeros((totalFrames, dim, dim, 3), dtype=np.float32)\n",
    "    height = vidObj.get(cv2.CAP_PROP_FRAME_HEIGHT)\n",
    "    width = vidObj.get(cv2.CAP_PROP_FRAME_WIDTH)\n",
    "    success, img = vidObj.read()\n",
    "    \n",
    "    print(\"Original Height\", height)\n",
    "    print(\"Original width\", width)\n",
    "    \n",
    "    #########################################################################\n",
    "    # Process each frame\n",
    "    while success:\n",
    "        t.append(vidObj.get(cv2.CAP_PROP_POS_MSEC))\n",
    "        # Crop to square and resize\n",
    "        vidLxL = cv2.resize(\n",
    "            img_as_float(img[:, int(width/2)-int(height/2 + 1):int(height/2)+int(width/2), :]), \n",
    "            (dim, dim), \n",
    "            interpolation=cv2.INTER_AREA\n",
    "        )\n",
    "        # Convert BGR to RGB\n",
    "        vidLxL = cv2.cvtColor(vidLxL.astype('float32'), cv2.COLOR_BGR2RGB)\n",
    "        # Clamp values\n",
    "        vidLxL[vidLxL > 1] = 1\n",
    "        vidLxL[vidLxL < (1/255)] = 1/255\n",
    "        Xsub[i, :, :, :] = vidLxL\n",
    "        success, img = vidObj.read()\n",
    "        i = i + 1\n",
    "    \n",
    "    vidObj.release()\n",
    "    \n",
    "    # Show a sample frame\n",
    "    plt.figure(figsize=(4, 4))\n",
    "    plt.imshow(Xsub[0])\n",
    "    plt.title('Sample Preprocessed Frame')\n",
    "    plt.show()\n",
    "    \n",
    "    #########################################################################\n",
    "    # Normalize the frames for PhysNet\n",
    "    Xsub = Xsub - np.mean(Xsub)\n",
    "    Xsub = Xsub / np.std(Xsub)\n",
    "    \n",
    "    return Xsub"
   ]
  },
  {
   "cell_type": "code",
   "execution_count": null,
   "metadata": {
    "id": "eWr7jT7q41Os"
   },
   "outputs": [],
   "source": [
    "# import tensorflow as tf\n",
    "# import numpy as np\n",
    "# import scipy.io\n",
    "# import os\n",
    "# import sys\n",
    "# import argparse\n",
    "# sys.path.append('../')\n",
    "# from model import Attention_mask, MTTS_CAN\n",
    "# import h5py\n",
    "# import matplotlib.pyplot as plt\n",
    "# from scipy.signal import butter\n",
    "# # from inference_preprocess import preprocess_raw_video, detrend\n",
    "\n",
    "# def predict_vitals(video_path, sampling_rate=25, batch_size=100 ):\n",
    "#     img_rows = 36\n",
    "#     img_cols = 36\n",
    "#     frame_depth = 10\n",
    "#     model_checkpoint = './mtts_can.hdf5'\n",
    "#     batch_size = batch_size\n",
    "#     fs = sampling_rate\n",
    "#     sample_data_path = video_path\n",
    "\n",
    "#     dXsub = preprocess_raw_video(sample_data_path, dim=36)\n",
    "#     print('dXsub shape', dXsub.shape)\n",
    "\n",
    "#     dXsub_len = (dXsub.shape[0] // frame_depth)  * frame_depth\n",
    "#     dXsub = dXsub[:dXsub_len, :, :, :]\n",
    "\n",
    "#     model = MTTS_CAN(frame_depth, 32, 64, (img_rows, img_cols, 3))\n",
    "#     model.load_weights(model_checkpoint)\n",
    "\n",
    "#     yptest = model.predict((dXsub[:, :, :, :3], dXsub[:, :, :, -3:]), batch_size=batch_size, verbose=1)\n",
    "\n",
    "#     pulse_pred = yptest[0]\n",
    "#     pulse_pred = detrend(np.cumsum(pulse_pred), 100)\n",
    "#     [b_pulse, a_pulse] = butter(1, [0.75 / fs * 2, 2.5 / fs * 2], btype='bandpass')\n",
    "#     pulse_pred = scipy.signal.filtfilt(b_pulse, a_pulse, np.double(pulse_pred))\n",
    "\n",
    "#     resp_pred = yptest[1]\n",
    "#     resp_pred = detrend(np.cumsum(resp_pred), 100)\n",
    "#     [b_resp, a_resp] = butter(1, [0.08 / fs * 2, 0.5 / fs * 2], btype='bandpass')\n",
    "#     resp_pred = scipy.signal.filtfilt(b_resp, a_resp, np.double(resp_pred))\n",
    "\n",
    "#     ########## Plot ##################\n",
    "#     plt.subplot(211)\n",
    "#     plt.plot(pulse_pred)\n",
    "#     plt.title('Pulse Prediction')\n",
    "#     plt.subplot(212)\n",
    "#     plt.plot(resp_pred)\n",
    "#     plt.title('Resp Prediction')\n",
    "    \n",
    "#     plt.subplots_adjust(left=0.1,\n",
    "#                     bottom=0.1, \n",
    "#                     right=0.9, \n",
    "#                     top=0.9, \n",
    "#                     wspace=0.4, \n",
    "#                     hspace=0.6)\n",
    "#     plt.show()\n",
    "    \n",
    "    \n",
    "#     return pulse_pred, resp_pred\n"
   ]
  },
  {
   "cell_type": "code",
   "execution_count": 18,
   "metadata": {},
   "outputs": [],
   "source": [
    "import torch\n",
    "import numpy as np\n",
    "import sys\n",
    "sys.path.append('/home/rPPG-Toolbox/neural_methods/model')\n",
    "from scipy.signal import butter\n",
    "from PhysNet import PhysNet_padding_Encoder_Decoder_MAX\n",
    "\n",
    "def predict_vitals(video_path, sampling_rate=25, batch_size=100, model_path=None):\n",
    "    \"\"\"\n",
    "    Predicts pulse signal from a video using PhysNet with custom preprocessing.\n",
    "    Note: PhysNet only predicts pulse directly. Respiration is estimated by\n",
    "    applying a different bandpass filter to the same pulse signal.\n",
    "    \n",
    "    Args:\n",
    "        video_path: Path to the video file\n",
    "        sampling_rate: Sampling rate of the video in fps\n",
    "        batch_size: Batch size for processing (parameter kept for consistency)\n",
    "        model_path: Path to pre-trained model weights (optional)\n",
    "        \n",
    "    Returns:\n",
    "        pulse_pred: Predicted pulse signal\n",
    "        resp_pred: Estimated respiration signal (derived from pulse signal)\n",
    "    \"\"\"\n",
    "    # Set model parameters\n",
    "    img_rows = 36\n",
    "    img_cols = 36\n",
    "    frame_depth = 128  # For PhysNet, typically use 128 frames\n",
    "    \n",
    "    # Preprocess the video using the custom function\n",
    "    frames = preprocess_for_physnet(video_path, dim=img_rows)\n",
    "    print('Preprocessed frames shape:', frames.shape)\n",
    "    \n",
    "    # Ensure we have a multiple of frame_depth\n",
    "    total_frames = frames.shape[0]\n",
    "    usable_frames = (total_frames // frame_depth) * frame_depth\n",
    "    if usable_frames == 0:\n",
    "        print(f\"Error: Not enough frames. Need at least {frame_depth} frames, but got {total_frames}.\")\n",
    "        return np.array([]), np.array([])\n",
    "    \n",
    "    frames = frames[:usable_frames]\n",
    "    \n",
    "    # Create and initialize the model\n",
    "    model = PhysNet_padding_Encoder_Decoder_MAX(frames=frame_depth)\n",
    "    \n",
    "    # Load pre-trained weights if provided\n",
    "    if model_path:\n",
    "        try:\n",
    "            model.load_state_dict(torch.load(model_path, map_location=torch.device('cpu')))\n",
    "            print(f\"Pre-trained model loaded successfully from {model_path}\")\n",
    "        except Exception as e:\n",
    "            print(f\"Warning: Could not load pre-trained model: {e}\")\n",
    "    else:\n",
    "        print(\"No pre-trained model specified. Using randomly initialized weights.\")\n",
    "    \n",
    "    # Check if CUDA is available and move model to GPU if it is\n",
    "    device = torch.device('cuda' if torch.cuda.is_available() else 'cpu')\n",
    "    print(f\"Using device: {device}\")\n",
    "    model = model.to(device)\n",
    "    model.eval()\n",
    "    \n",
    "    # Process the video in segments\n",
    "    predictions = []\n",
    "    num_segments = usable_frames // frame_depth\n",
    "    \n",
    "    for i in range(num_segments):\n",
    "        start_idx = i * frame_depth\n",
    "        end_idx = start_idx + frame_depth\n",
    "        \n",
    "        # Extract segment\n",
    "        segment = frames[start_idx:end_idx]\n",
    "        \n",
    "        # Convert to PyTorch tensor and adjust dimensions for PhysNet\n",
    "        # PhysNet expects [batch, channels, time, height, width]\n",
    "        segment_tensor = torch.from_numpy(segment).float().permute(3, 0, 1, 2).unsqueeze(0)\n",
    "        segment_tensor = segment_tensor.to(device)\n",
    "        \n",
    "        # Process with model\n",
    "        with torch.no_grad():\n",
    "            rppg, _, _, _ = model(segment_tensor)\n",
    "            predictions.append(rppg.cpu().numpy())\n",
    "    \n",
    "    # Concatenate predictions from all segments\n",
    "    if len(predictions) == 0:\n",
    "        print(\"Error: No predictions were generated.\")\n",
    "        return np.array([]), np.array([])\n",
    "    \n",
    "    # If we have multiple segments, concatenate them\n",
    "    rppg_signal = np.concatenate(predictions, axis=1).flatten() if len(predictions) > 1 else predictions[0].flatten()\n",
    "    \n",
    "    \n",
    "    # Post-process for pulse (heart rate) - typically between 0.75-2.5 Hz (45-150 BPM)\n",
    "    pulse_pred = detrend(np.cumsum(rppg_signal), 100)\n",
    "    [b_pulse, a_pulse] = butter(1, [0.75 / sampling_rate * 2, 2.5 / sampling_rate * 2], btype='bandpass')\n",
    "    pulse_pred = scipy.signal.filtfilt(b_pulse, a_pulse, np.double(pulse_pred))\n",
    "    \n",
    "    plt.figure(figsize=(10, 6))\n",
    "    plt.plot(pulse_pred)\n",
    "    plt.title('Pulse Prediction (direct model output)')\n",
    "    plt.xlabel('Frames')\n",
    "    plt.ylabel('Amplitude')\n",
    "    plt.grid(True)\n",
    "    plt.tight_layout()\n",
    "    plt.show()\n",
    "    \n",
    "    return pulse_pred\n"
   ]
  },
  {
   "cell_type": "code",
   "execution_count": null,
   "metadata": {},
   "outputs": [],
   "source": [
    "#prediction of respiratory rate for both elevated and normal RR\n",
    "#Adjust the sampling rate accordingly\n",
    "fps = 25\n",
    "model_path = \"/home/rPPG-Toolbox/final_model_release/PURE_PhysNet_DiffNormalized.pth\"\n",
    "pulse_pred_NR = predict_vitals(\"./NormalHR.mp4\", sampling_rate=fps,model_path = model_path)\n",
    "pulse_pred_EL = predict_vitals(\"./ElevatedHR.mp4\", sampling_rate=fps,model_path = model_path)\n",
    "# pulse_pred_NR, resp_pred_NR = predict_vitals(\"./NormalHR.mp4\", sampling_rate=fps)\n",
    "# pulse_pred_EL, resp_pred_EL = predict_vitals(\"./ElevatedHR.mp4\", sampling_rate=fps)"
   ]
  },
  {
   "cell_type": "code",
   "execution_count": null,
   "metadata": {},
   "outputs": [],
   "source": [
    "#Normal rate\n",
    "RespNormalHr_rs = scipy.signal.resample(RespNormalHr, resp_pred_NR.shape[0])\n",
    "normalized_NR = (RespNormalHr_rs-min(RespNormalHr_rs))/(max(RespNormalHr_rs)-min(RespNormalHr_rs))\n",
    "resp_pred_NR = (resp_pred_NR-min(resp_pred_NR))/(max(resp_pred_NR)-min(resp_pred_NR))\n",
    "plt.plot(normalized_NR, label=\"Ground Truth\")\n",
    "plt.plot(resp_pred_NR, label=\"Predicted\")\n",
    "plt.xlabel(\"frames\")\n",
    "plt.ylabel(\"Normalized BVP\")\n",
    "plt.legend()"
   ]
  },
  {
   "cell_type": "code",
   "execution_count": null,
   "metadata": {},
   "outputs": [],
   "source": [
    "#Elevated rate\n",
    "#since Jan's elevated HR video was 56.1 seconds long, we would have to crop the ground truth signal accordingly\n",
    "#before we resample it.If you Elevated RR is also 1 min long you dont have have to make this change\n",
    "\n",
    "crop_index = int(56.1*sampling_rate) #time*1000\n",
    "RespElevatedHr_rs = scipy.signal.resample(RespElevatedHr[:crop_index], resp_pred_EL.shape[0])\n",
    "\n",
    "# RespElevatedHr_rs = scipy.signal.resample(RespElevatedHr, resp_pred_EL.shape[0])\n",
    "normalized_EL = (RespElevatedHr_rs-min(RespElevatedHr_rs))/(max(RespElevatedHr_rs)-min(RespElevatedHr_rs))\n",
    "resp_pred_EL = (resp_pred_EL-min(resp_pred_EL))/(max(resp_pred_EL)-min(resp_pred_EL))\n",
    "plt.plot(normalized_EL, label=\"Ground Truth\")\n",
    "plt.plot(resp_pred_EL, label=\"Predicted\")\n",
    "plt.xlabel(\"frames\")\n",
    "plt.ylabel(\"Normalized BVP\")\n",
    "plt.legend()"
   ]
  },
  {
   "cell_type": "code",
   "execution_count": null,
   "metadata": {},
   "outputs": [],
   "source": [
    "import numpy as np\n",
    "from scipy.signal import welch\n",
    "from scipy.signal import find_peaks, stft\n",
    "from plotly.subplots import make_subplots\n",
    "from plotly.colors import n_colors\n",
    "import plotly.graph_objects as go\n",
    "from scipy.interpolate import interp1d\n",
    "from pyVHR.plot.visualize import VisualizeParams\n",
    "from pyVHR.BPM.utils import *\n",
    "from scipy.stats import median_absolute_deviation as mad\n",
    "\n",
    "\"\"\"\n",
    "This module contains all the class and the methods for transforming \n",
    "a BVP signal in a BPM signal.\n",
    "\"\"\"\n",
    "\n",
    "class RPsignal:\n",
    "    \"\"\"\n",
    "    Manage (multi-channel, row-wise) BVP signals, and transforms them in BPMs.\n",
    "    \"\"\"\n",
    "    #nFFT = 2048  # freq. resolution for STFTs\n",
    "    step = 1       # step in seconds\n",
    "\n",
    "    def __init__(self, data, fs, startTime=0, minHz=0.75, maxHz=4., verb=False):\n",
    "        if len(data.shape) == 1:\n",
    "            self.data = data.reshape(1, -1)  # 2D array raw-wise\n",
    "        else:\n",
    "            self.data = data\n",
    "        self.fs = fs                       # sample rate\n",
    "        self.startTime = startTime\n",
    "        self.verb = verb\n",
    "        self.minHz = minHz\n",
    "        self.maxHz = maxHz\n",
    "        nyquistF = self.fs/2\n",
    "        fRes = 0.5\n",
    "        self.nFFT = max(2048, (60*2*nyquistF) / fRes)\n",
    "\n",
    "    def spectrogram(self, winsize=5):\n",
    "        \"\"\"\n",
    "        Compute the BVP signal spectrogram restricted to the\n",
    "        band 42-240 BPM by using winsize (in sec) samples.\n",
    "        \"\"\"\n",
    "\n",
    "        # -- spect. Z is 3-dim: Z[#chnls, #freqs, #times]\n",
    "        F, T, Z = stft(self.data,\n",
    "                       self.fs,\n",
    "                       nperseg=self.fs*winsize,\n",
    "                       noverlap=self.fs*(winsize-self.step),\n",
    "                       boundary='even',\n",
    "                       nfft=self.nFFT)\n",
    "        Z = np.squeeze(Z, axis=0)\n",
    "\n",
    "        # -- freq subband (0.75 Hz - 4.0 Hz)\n",
    "        minHz = 0.08\n",
    "        maxHz = 1\n",
    "        band = np.argwhere((F > minHz) & (F < maxHz)).flatten()\n",
    "        self.spect = np.abs(Z[band, :])     # spectrum magnitude\n",
    "        self.freqs = 60*F[band]            # spectrum freq in bpm\n",
    "        self.times = T                     # spectrum times\n",
    "\n",
    "        # -- BPM estimate by spectrum\n",
    "        self.bpm = self.freqs[np.argmax(self.spect, axis=0)]\n",
    "\n",
    "    def getRPM(self, winsize=5):\n",
    "        \"\"\"\n",
    "        Get the BPM signal extracted from the ground truth BVP signal.\n",
    "        \"\"\"\n",
    "        self.spectrogram(winsize)\n",
    "        return self.bpm, self.times"
   ]
  },
  {
   "cell_type": "markdown",
   "metadata": {},
   "source": [
    "#### Task 5.1 Have a look at your Respiratory rate over time and use what you learned in the lecture to see if they make sense. what are the differences you observer between Also talk about what are the specific things that you would expect to see between the two videos w.r.t the change in breathing rate. "
   ]
  },
  {
   "cell_type": "markdown",
   "metadata": {},
   "source": [
    "Your observations go here:"
   ]
  },
  {
   "cell_type": "markdown",
   "metadata": {},
   "source": [
    "#### Normal Respiration: RPM estimation"
   ]
  },
  {
   "cell_type": "code",
   "execution_count": null,
   "metadata": {},
   "outputs": [],
   "source": [
    "#Ground Truth RPM\n",
    "rpsignal = RPsignal(normalized_NR,fps)\n",
    "rpm_NR, timerpm_NR = rpsignal.getRPM(winsize = 20)\n",
    "#Predicted RPM\n",
    "rpsignal_MTTS = RPsignal(resp_pred_NR,fps)\n",
    "rpm_pred_NR, timerpm_pred_NR = rpsignal_MTTS.getRPM(winsize = 20)"
   ]
  },
  {
   "cell_type": "markdown",
   "metadata": {},
   "source": [
    "#### Elevated Respiration: RPM estimation"
   ]
  },
  {
   "cell_type": "code",
   "execution_count": null,
   "metadata": {},
   "outputs": [],
   "source": [
    "#Ground Truth RPM\n",
    "rpsignal = RPsignal(normalized_EL,fps)\n",
    "rpm_EL, timerpm_EL = rpsignal.getRPM(winsize = 20)\n",
    "#Predicted RPM\n",
    "rpsignal_MTTS = RPsignal(resp_pred_EL,fps)\n",
    "rpm_pred_EL, timerpm_pred_EL = rpsignal_MTTS.getRPM(winsize = 20)"
   ]
  },
  {
   "cell_type": "markdown",
   "metadata": {},
   "source": [
    "#### Task 5.2 Use the evaluation metrics( MAE and RMSE) to evaluate the predictions. Document the results and discuss them."
   ]
  },
  {
   "cell_type": "code",
   "execution_count": null,
   "metadata": {},
   "outputs": [],
   "source": [
    "###############################\n",
    "#     your code goes here     #\n",
    "###############################\n",
    "\n",
    "# you can use built in funcitons or write your own funtions to calculate the MAE and RMSE.\n"
   ]
  },
  {
   "cell_type": "markdown",
   "metadata": {},
   "source": [
    "#### Task 5.3 Plot the ground truth signals (ECG and Respiratory rate) and see if you can find some relationship between them.(consider both the elevated and normal part of the signal)"
   ]
  },
  {
   "cell_type": "code",
   "execution_count": null,
   "metadata": {},
   "outputs": [],
   "source": [
    "###############################\n",
    "#     your code goes here     #\n",
    "###############################\n",
    "\n",
    "\n"
   ]
  },
  {
   "attachments": {
    "inspiration_expiration.png": {
     "image/png": "[encoded data removed]"
    }
   },
   "cell_type": "markdown",
   "metadata": {},
   "source": [
    "![inspiration_expiration.png](attachment:inspiration_expiration.png)\n",
    "[source](https://lernraumplus.uni-bielefeld.de/pluginfile.php/745448/mod_resource/content/1/10_MBP_breathing_processing_V2.pdf)\n",
    "\n",
    "From the above figure you can see how inspiration and expiration time is calculated.Inspiration time  is the time from the tidal volume takes to reach a peak from the minima and expiration time is the the time taken from the peak to the minima."
   ]
  },
  {
   "cell_type": "markdown",
   "metadata": {},
   "source": [
    "#### Task 5.4 Calculate the average duration of inspiration and expiration. Also calculate the ratio between them. \n",
    "Hint: [find peaks](https://docs.scipy.org/doc/scipy/reference/generated/scipy.signal.find_peaks.html?highlight=find%20peaks#scipy.signal.find_peaks)"
   ]
  },
  {
   "cell_type": "code",
   "execution_count": null,
   "metadata": {
    "scrolled": true
   },
   "outputs": [],
   "source": [
    "###############################\n",
    "#     your code goes here     #\n",
    "###############################\n",
    "\n",
    "#Find the peaks and minimas to calculate the inspiration and expiration time. \n",
    "\n"
   ]
  },
  {
   "cell_type": "markdown",
   "metadata": {},
   "source": [
    "#### Task 5.5 In the previous task you  calculated the inspiration and expiration time. Using knowledge from the lecture, do the findings match your expectations? If they don't discuss why the calculations might not be precise."
   ]
  },
  {
   "cell_type": "markdown",
   "metadata": {},
   "source": [
    "Your analysis:"
   ]
  },
  {
   "cell_type": "markdown",
   "metadata": {
    "id": "v5O6M2DJLybm"
   },
   "source": [
    "#### Task 5.6 Below you will find figures for how the HR(BPM) and RR(RPM and Raw signal) varied, Look if both signals might have a relationship in their behavior. Look for parts where they support your knowledge of heart rate and breathing activity."
   ]
  },
  {
   "cell_type": "code",
   "execution_count": null,
   "metadata": {
    "id": "RyvWYjlwHTjK"
   },
   "outputs": [],
   "source": [
    "from pyVHR.utils.ecg import ECGsignal\n",
    "#Normal HR\n",
    "signal_NR = ECGsignal(ECGNormalHr, 1000)\n",
    "bpmGT_NR_GT, timeGT_NR_GT = signal_NR.getBPM(winsize=20)\n",
    "\n",
    "#Normal Respiration\n",
    "rsignal_NR = RPsignal(RespNormalHr,1000)\n",
    "rpm_NR_GT, timerpm_NR_GT = rsignal_NR.getRPM(winsize = 20)\n",
    "\n",
    "#Elevated Respiration\n",
    "rpsignal_EL = RPsignal(RespElevatedHr,1000)\n",
    "rpm_EL_GT, timerpm_EL_GT = rpsignal_EL.getRPM(winsize = 20)\n",
    "\n",
    "#Elevated HR\n",
    "signal_EL = ECGsignal(ecgElevatedHr, 1000)\n",
    "bpmGT_EL_GT, timeGT_EL_GT= signal_EL.getBPM(winsize=20)\n",
    "\n",
    "\n",
    "fig, ax = plt.subplots(3,2,figsize=(30,20))\n",
    "ax[0][0].plot(timerpm_NR_GT,rpm_NR_GT)\n",
    "ax[0][0].set_ylabel(\"RPM\")\n",
    "ax[0][0].set_xlabel(\"Time(s)\")\n",
    "\n",
    "ax[1][0].plot(timeGT_NR_GT,bpmGT_NR_GT,label=\"BPM\")\n",
    "ax[1][0].set_ylabel(\"BPM\")\n",
    "ax[1][0].set_xlabel(\"Time(s)\")\n",
    "\n",
    "ax[2][0].plot(np.arange(0,len(timeNormalHr)),RespNormalHr, label=\"Respiratory signal\")\n",
    "ax[2][0].set_ylabel(\"Raw value\")\n",
    "ax[2][0].set_xlabel(\"Samples(1000/s)\")\n",
    "\n",
    "ax[0][0].set_title(\"Normal HR/RR\")\n",
    "\n",
    "\n",
    "# fig, ax = plt.subplots(2)\n",
    "ax[0][1].plot(timerpm_EL_GT,rpm_EL_GT)\n",
    "ax[0][1].set_ylabel(\"RPM\")\n",
    "ax[0][1].set_xlabel(\"Time(s)\")\n",
    "\n",
    "ax[1][1].plot(timeGT_EL_GT,bpmGT_EL_GT)\n",
    "ax[1][1].set_ylabel(\"BPM\")\n",
    "ax[1][1].set_xlabel(\"Time(s)\")\n",
    "\n",
    "ax[2][1].plot(np.arange(0,len(timeElevatedHR)),RespElevatedHr, label=\"Respiratory signal\")\n",
    "ax[2][1].set_ylabel(\"Raw value\")\n",
    "ax[2][1].set_xlabel(\"Samples(1000/s)\")\n",
    "\n",
    "ax[0][1].set_title(\"Elevated HR/RR\")\n"
   ]
  },
  {
   "cell_type": "markdown",
   "metadata": {},
   "source": [
    "Your observations go here:"
   ]
  },
  {
   "cell_type": "markdown",
   "metadata": {},
   "source": [
    "#### Bonus Task: You can get an extra point to compensate for previous errors/late submission/missing points of previous notebooks :)\n",
    "#### Bonus Task 5.7 Create a Bland-Altman plot for the predicted and ground truth RR. (more info about [bland-altman plot](https://en.wikipedia.org/wiki/Bland%E2%80%93Altman_plot))"
   ]
  },
  {
   "cell_type": "code",
   "execution_count": null,
   "metadata": {},
   "outputs": [],
   "source": [
    "###############################\n",
    "#     your code goes here     #\n",
    "###############################\n",
    "\n"
   ]
  }
 ],
 "metadata": {
  "colab": {
   "name": "affectiveSignalsBreathing_Colab.ipynb",
   "provenance": []
  },
  "kernelspec": {
   "display_name": "base",
   "language": "python",
   "name": "python3"
  },
  "language_info": {
   "codemirror_mode": {
    "name": "ipython",
    "version": 3
   },
   "file_extension": ".py",
   "mimetype": "text/x-python",
   "name": "python",
   "nbconvert_exporter": "python",
   "pygments_lexer": "ipython3",
   "version": "3.11.7"
  }
 },
 "nbformat": 4,
 "nbformat_minor": 1
}
